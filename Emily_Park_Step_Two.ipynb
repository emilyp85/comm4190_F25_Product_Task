{
 "cells": [
  {
   "cell_type": "markdown",
   "id": "5149cf56-c7ea-4ef5-88ad-1a6783a502a4",
   "metadata": {},
   "source": [
    "This is the website I generated:\n",
    "\n",
    "# Maple Bacon Latte Chips\n",
    "\n",
    "### Logo Concept\n",
    "\n",
    "A bold, circular logo featuring a steaming coffee cup where the steam is shaped like bacon strips, with a maple leaf in the background. The colors are warm and earthy—amber, deep red, and coffee brown. The font is playful yet modern, making the flavor feel indulgent but approachable.\n",
    "\n",
    "### Slogan\n",
    "\n",
    "**“Wake Up Your Taste Buds.”**\n",
    "\n",
    "### Product Description\n",
    "\n",
    "Meet the chip that combines breakfast and snack-time indulgence. Maple Bacon Latte Chips deliver a perfectly balanced crunch of smoky bacon, sweet maple syrup, and a hint of roasted coffee. It’s bold, comforting, and unlike anything you’ve ever tasted.\n",
    "\n",
    "### Features\n",
    "\n",
    "* Smoky, savory bacon flavor balanced with sweet maple syrup\n",
    "* A subtle coffee finish that enhances the richness\n",
    "* Kettle-cooked for maximum crunch and golden texture\n",
    "* Made with real ingredients for authentic taste\n",
    "* Perfect for adventurous snackers looking for something new\n",
    "\n",
    "### Customer Reviews\n",
    "\n",
    "* *“I never thought I’d love a chip flavor this much—sweet, savory, and crunchy perfection!”* – Alex P.\n",
    "* *“It tastes like brunch in a bag. Genius idea.”* – Morgan R.\n",
    "* *“The coffee note at the end is surprisingly addictive.”* – Jamie L.\n",
    "\n",
    "### Try Them Now\n",
    "\n",
    "Be the first to crunch into the breakfast-inspired snack that’s redefining chips. Maple Bacon Latte Chips are available for a limited time—don’t miss out!"
   ]
  },
  {
   "cell_type": "markdown",
   "id": "a96f8954-6ff8-4ede-a69c-c6844a54a5df",
   "metadata": {},
   "source": [
    "# This is the image of the website:\n",
    "![](website.png)"
   ]
  },
  {
   "cell_type": "code",
   "execution_count": null,
   "id": "813556b0-4454-4330-89dd-884a33aad205",
   "metadata": {},
   "outputs": [],
   "source": []
  }
 ],
 "metadata": {
  "kernelspec": {
   "display_name": "Python 3-12 (COMM4190)",
   "language": "python",
   "name": "python3-12_comm4190"
  },
  "language_info": {
   "codemirror_mode": {
    "name": "ipython",
    "version": 3
   },
   "file_extension": ".py",
   "mimetype": "text/x-python",
   "name": "python",
   "nbconvert_exporter": "python",
   "pygments_lexer": "ipython3",
   "version": "3.12.11"
  }
 },
 "nbformat": 4,
 "nbformat_minor": 5
}
